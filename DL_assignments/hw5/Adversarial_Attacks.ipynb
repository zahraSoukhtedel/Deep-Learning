{
  "cells": [
    {
      "cell_type": "markdown",
      "source": [
        "# **Description**\n",
        "In this notebook you will firstly train a CNN on cifar10 dataset. The CNN architecture is provided in ``` resnet.py ```. Then you are going to immplement targeted and untargeted FGSM attack and also $l_{∞}$-PGD attack, and evaluate the performance of the trained model on the adversarial data.\n",
        "\n",
        "\n",
        "**Attention!** Make sure you do not miss the questions asked at the end of the notebook.\n",
        "\n",
        "\n",
        "\n",
        "\n"
      ],
      "metadata": {
        "id": "LlvJfPxRSP9D"
      }
    },
    {
      "cell_type": "markdown",
      "source": [
        "Name: Zahra Soukhtedel\n",
        "\n",
        "Student ID: 98105138"
      ],
      "metadata": {
        "id": "5t--rmHfULt0"
      }
    },
    {
      "cell_type": "markdown",
      "metadata": {
        "id": "PTvKkL8C3TGI"
      },
      "source": [
        "#**Setups**"
      ]
    },
    {
      "cell_type": "code",
      "execution_count": 1,
      "metadata": {
        "cellView": "code",
        "colab": {
          "base_uri": "https://localhost:8080/"
        },
        "id": "dF8zbANmutFx",
        "outputId": "23713d25-6d04-448c-fc75-c9db877e5ae7"
      },
      "outputs": [
        {
          "output_type": "stream",
          "name": "stdout",
          "text": [
            "Mounted at /content/drive\n"
          ]
        }
      ],
      "source": [
        "from google.colab import drive\n",
        "drive.mount('/content/drive')"
      ]
    },
    {
      "cell_type": "code",
      "execution_count": 2,
      "metadata": {
        "id": "TWoN53mi80jY",
        "colab": {
          "base_uri": "https://localhost:8080/"
        },
        "outputId": "a89fea94-72ea-46e3-ce57-73487e662bb5"
      },
      "outputs": [
        {
          "output_type": "stream",
          "name": "stdout",
          "text": [
            "/content/drive/MyDrive/Colab Notebooks/Deep_HW5\n"
          ]
        }
      ],
      "source": [
        "#feel free to change the path if needed\n",
        "\n",
        "%cd '/content/drive/MyDrive/Colab Notebooks/Deep_HW5'"
      ]
    },
    {
      "cell_type": "code",
      "execution_count": 3,
      "metadata": {
        "id": "OGuslJ_e_Hlg"
      },
      "outputs": [],
      "source": [
        "import torch\n",
        "import torch.nn as nn\n",
        "import torch.optim as optim\n",
        "import torch.nn.functional as F\n",
        "import torch.backends.cudnn as cudnn\n",
        "\n",
        "import torchvision\n",
        "import torchvision.transforms as transforms\n",
        "\n",
        "import os\n",
        "import argparse\n",
        "import matplotlib.pyplot as plt\n",
        "import numpy as np\n",
        "\n",
        "import torch\n",
        "from torchvision import datasets\n",
        "\n",
        "from resnet import *"
      ]
    },
    {
      "cell_type": "code",
      "execution_count": 4,
      "metadata": {
        "id": "kMJqAx798x5c"
      },
      "outputs": [],
      "source": [
        "device = 'cuda' if torch.cuda.is_available() else 'cpu'"
      ]
    },
    {
      "cell_type": "code",
      "source": [
        "'''\n",
        "These are the default values for variables, these should work, but if needed, you are allowed to change these parameters.\n",
        "'''\n",
        "\n",
        "batch_size = 128\n",
        "lr = 1e-3\n",
        "epochs = 50"
      ],
      "metadata": {
        "id": "xmr1-O7F8GeB"
      },
      "execution_count": 5,
      "outputs": []
    },
    {
      "cell_type": "markdown",
      "source": [
        "#**Data Preparation (5 pts)**\n",
        "Use cifar10 dataset provided in torchvision and create train and test dataloaders according to the given transformations."
      ],
      "metadata": {
        "id": "-j3SQFaQSCJX"
      }
    },
    {
      "cell_type": "code",
      "execution_count": 6,
      "metadata": {
        "colab": {
          "base_uri": "https://localhost:8080/"
        },
        "id": "pBNfOkMr92S3",
        "outputId": "b53b2be8-0b73-4942-c0ae-e8e854eda418"
      },
      "outputs": [
        {
          "output_type": "stream",
          "name": "stdout",
          "text": [
            "==> Preparing data..\n",
            "Files already downloaded and verified\n",
            "Files already downloaded and verified\n"
          ]
        }
      ],
      "source": [
        "print('==> Preparing data..')\n",
        "\n",
        "transform_train = transforms.Compose([\n",
        "    transforms.RandomCrop(32, padding=4),\n",
        "    transforms.RandomHorizontalFlip(),\n",
        "    transforms.ToTensor(),\n",
        "    transforms.Normalize((0.4914, 0.4822, 0.4465), (0.2023, 0.1994, 0.2010)),\n",
        "])\n",
        "\n",
        "transform_test = transforms.Compose([\n",
        "    transforms.ToTensor(),\n",
        "    transforms.Normalize((0.4914, 0.4822, 0.4465), (0.2023, 0.1994, 0.2010)),\n",
        "])\n",
        "\n",
        "\n",
        "###################################################\n",
        "#prepare training and test datasets and loaders   #\n",
        "###################################################\n",
        "\n",
        "\n",
        "\n",
        "######################\n",
        "trainset = datasets.CIFAR10(root='./data', train=True, download=True, transform=transform_train)\n",
        "trainloader = torch.utils.data.DataLoader(trainset, batch_size=batch_size, shuffle=True, num_workers=2)\n",
        "testset = datasets.CIFAR10(root='./data', train=False, download=True, transform=transform_test)\n",
        "testloader = torch.utils.data.DataLoader(testset, batch_size=batch_size, shuffle=False, num_workers=2)\n",
        "\n",
        "classes = ('plane', 'car', 'bird', 'cat', 'deer',\n",
        "           'dog', 'frog', 'horse', 'ship', 'truck')"
      ]
    },
    {
      "cell_type": "markdown",
      "source": [
        "#**Building The Model**"
      ],
      "metadata": {
        "id": "qaOM_JYFUlF8"
      }
    },
    {
      "cell_type": "code",
      "source": [
        "########################################\n",
        "#build your model                      #\n",
        "########################################\n",
        "print('==> Building model..')\n",
        "net = ResNet18()\n",
        "net = net.to(device)\n",
        "\n",
        "if device == 'cuda':\n",
        "    net = torch.nn.DataParallel(net)\n",
        "    cudnn.benchmark = True\n",
        "\n",
        "optimizer = optim.SGD(net.parameters(), lr=lr, momentum=0.9)"
      ],
      "metadata": {
        "id": "6zjkk49HUkXB",
        "colab": {
          "base_uri": "https://localhost:8080/"
        },
        "outputId": "8267b8e3-dc4f-45cf-bb5a-ea8f2b0fde27"
      },
      "execution_count": 7,
      "outputs": [
        {
          "output_type": "stream",
          "name": "stdout",
          "text": [
            "==> Building model..\n"
          ]
        }
      ]
    },
    {
      "cell_type": "markdown",
      "source": [
        "#**Training and Evaluating The Model (5 pts)**"
      ],
      "metadata": {
        "id": "i0JFoNGBUxdd"
      }
    },
    {
      "cell_type": "code",
      "execution_count": 8,
      "metadata": {
        "id": "OOLoVjk087ek"
      },
      "outputs": [],
      "source": [
        "# Training\n",
        "def train(epoch, net, optimizer, trainloader):\n",
        "    print('\\nEpoch: %d' % epoch)\n",
        "    net.train()\n",
        "    criterion = nn.CrossEntropyLoss()\n",
        "\n",
        "    train_loss = 0\n",
        "    correct = 0\n",
        "    total = 0\n",
        "    for batch_idx, (inputs, targets) in enumerate(trainloader):\n",
        "        inputs, targets = inputs.to(device), targets.to(device)\n",
        "        optimizer.zero_grad()\n",
        "        outputs = net(inputs)\n",
        "        loss = criterion(outputs, targets)\n",
        "        loss.backward()\n",
        "        optimizer.step()\n",
        "\n",
        "        train_loss += loss.item()\n",
        "        _, predicted = outputs.max(1)\n",
        "        total += targets.size(0)\n",
        "        correct += predicted.eq(targets).sum().item()\n",
        "\n",
        "    return train_loss/len(trainloader), 100*correct/total\n",
        "\n",
        "\n",
        "def test(epoch, net, testloader):\n",
        "    net.eval()\n",
        "    criterion = nn.CrossEntropyLoss()\n",
        "\n",
        "    test_loss = 0\n",
        "    correct = 0\n",
        "    total = 0\n",
        "    with torch.no_grad():\n",
        "        for batch_idx, (inputs, targets) in enumerate(testloader):\n",
        "            inputs, targets = inputs.to(device), targets.to(device)\n",
        "            outputs = net(inputs)\n",
        "            loss = criterion(outputs, targets)\n",
        "\n",
        "            test_loss += loss.item()\n",
        "            _, predicted = outputs.max(1)\n",
        "            total += targets.size(0)\n",
        "            correct += predicted.eq(targets).sum().item()\n",
        "\n",
        "    return test_loss/len(testloader), 100 * correct / total"
      ]
    },
    {
      "cell_type": "code",
      "execution_count": 9,
      "metadata": {
        "id": "8Y7DHygJ83e8",
        "colab": {
          "base_uri": "https://localhost:8080/"
        },
        "outputId": "b015cbcf-236d-4adb-d53b-ce4b64ea522f"
      },
      "outputs": [
        {
          "output_type": "stream",
          "name": "stdout",
          "text": [
            "\n",
            "Epoch: 0\n",
            "\n",
            "Epoch: 1\n",
            "\n",
            "Epoch: 2\n",
            "\n",
            "Epoch: 3\n",
            "\n",
            "Epoch: 4\n",
            "\n",
            "Epoch: 5\n",
            "\n",
            "Epoch: 6\n",
            "\n",
            "Epoch: 7\n",
            "\n",
            "Epoch: 8\n",
            "\n",
            "Epoch: 9\n",
            "\n",
            "Epoch: 10\n",
            "\n",
            "Epoch: 11\n",
            "\n",
            "Epoch: 12\n",
            "\n",
            "Epoch: 13\n",
            "\n",
            "Epoch: 14\n",
            "\n",
            "Epoch: 15\n",
            "\n",
            "Epoch: 16\n",
            "\n",
            "Epoch: 17\n",
            "\n",
            "Epoch: 18\n",
            "\n",
            "Epoch: 19\n",
            "\n",
            "Epoch: 20\n",
            "\n",
            "Epoch: 21\n",
            "\n",
            "Epoch: 22\n",
            "\n",
            "Epoch: 23\n",
            "\n",
            "Epoch: 24\n",
            "\n",
            "Epoch: 25\n",
            "\n",
            "Epoch: 26\n",
            "\n",
            "Epoch: 27\n",
            "\n",
            "Epoch: 28\n",
            "\n",
            "Epoch: 29\n",
            "\n",
            "Epoch: 30\n",
            "\n",
            "Epoch: 31\n",
            "\n",
            "Epoch: 32\n",
            "\n",
            "Epoch: 33\n",
            "\n",
            "Epoch: 34\n",
            "\n",
            "Epoch: 35\n",
            "\n",
            "Epoch: 36\n",
            "\n",
            "Epoch: 37\n",
            "\n",
            "Epoch: 38\n",
            "\n",
            "Epoch: 39\n",
            "\n",
            "Epoch: 40\n",
            "\n",
            "Epoch: 41\n",
            "\n",
            "Epoch: 42\n",
            "\n",
            "Epoch: 43\n",
            "\n",
            "Epoch: 44\n",
            "\n",
            "Epoch: 45\n",
            "\n",
            "Epoch: 46\n",
            "\n",
            "Epoch: 47\n",
            "\n",
            "Epoch: 48\n",
            "\n",
            "Epoch: 49\n"
          ]
        }
      ],
      "source": [
        "######################################################################\n",
        "#train your model, make sure to save loss and accuracy in all epochs #\n",
        "######################################################################\n",
        "\n",
        "######################\n",
        "# Your code goes here\n",
        "\n",
        "train_losses = []\n",
        "train_accuracies = []\n",
        "test_losses = []\n",
        "test_accuracies = []\n",
        "\n",
        "# Training loop\n",
        "for epoch in range(epochs):\n",
        "    train_loss, train_acc = train(epoch, net, optimizer, trainloader)\n",
        "    test_loss, test_acc = test(epoch, net, testloader)\n",
        "\n",
        "    train_losses.append(train_loss)\n",
        "    train_accuracies.append(train_acc)\n",
        "    test_losses.append(test_loss)\n",
        "    test_accuracies.append(test_acc)"
      ]
    },
    {
      "cell_type": "code",
      "execution_count": 10,
      "metadata": {
        "id": "kg-IZNW_gB2Z"
      },
      "outputs": [],
      "source": [
        "########################################\n",
        "#save your model and history           #\n",
        "########################################\n",
        "\n",
        "torch.save(net.state_dict(), 'model.pth')\n",
        "\n",
        "history = {\n",
        "    'train_losses': train_losses,\n",
        "    'train_accuracies': train_accuracies,\n",
        "    'test_losses': test_losses,\n",
        "    'test_accuracies': test_accuracies\n",
        "}\n",
        "torch.save(history, 'history.pth')\n",
        "\n",
        "######################\n",
        "# Your code goes here"
      ]
    },
    {
      "cell_type": "markdown",
      "source": [
        "##**Train and Test Loss and Accuracy Plots**"
      ],
      "metadata": {
        "id": "-xsrwlrLU_jE"
      }
    },
    {
      "cell_type": "code",
      "source": [
        "#############################################################\n",
        "#plot train and test loss and accuracy dusring the training #\n",
        "#############################################################\n",
        "\n",
        "######################\n",
        "# Your code goes here\n",
        "# Plotting the training and testing loss\n",
        "plt.figure(figsize=(10, 5))\n",
        "plt.subplot(1, 2, 1)\n",
        "plt.plot(train_losses, label='Train Loss')\n",
        "plt.plot(test_losses, label='Test Loss')\n",
        "plt.xlabel('Epochs')\n",
        "plt.ylabel('Loss')\n",
        "plt.legend()\n",
        "\n",
        "# Plotting the training and testing accuracy\n",
        "plt.subplot(1, 2, 2)\n",
        "plt.plot(train_accuracies, label='Train Accuracy')\n",
        "plt.plot(test_accuracies, label='Test Accuracy')\n",
        "plt.xlabel('Epochs')\n",
        "plt.ylabel('Accuracy')\n",
        "plt.legend()\n",
        "\n",
        "plt.show()"
      ],
      "metadata": {
        "id": "HWaW89Sj9R4g",
        "colab": {
          "base_uri": "https://localhost:8080/",
          "height": 470
        },
        "outputId": "381edfc7-4b0b-4720-e858-fc9f0ff140c4"
      },
      "execution_count": 11,
      "outputs": [
        {
          "output_type": "display_data",
          "data": {
            "text/plain": [
              "<Figure size 1000x500 with 2 Axes>"
            ],
            "image/png": "[encoded data removed]"
          },
          "metadata": {}
        }
      ]
    },
    {
      "cell_type": "markdown",
      "metadata": {
        "direction": "rtl",
        "id": "IUfvVGWx3TGM"
      },
      "source": [
        "#**FGSM Attack (45 pts)**\n",
        "In this section you must implement targeted and untargeted FGSM attack and evalute the trained model performance on the adversarial data.[link text](https://)"
      ]
    },
    {
      "cell_type": "markdown",
      "source": [
        "##**Untargeted FGSM Attack**"
      ],
      "metadata": {
        "id": "VDhwjK4OVohn"
      }
    },
    {
      "cell_type": "code",
      "execution_count": 12,
      "metadata": {
        "id": "8XbNsfxGhry6"
      },
      "outputs": [],
      "source": [
        "########################################\n",
        "#define untargeted FGSM attack         #\n",
        "########################################\n",
        "\n",
        "\n",
        "def FGSM (model, x, y, epsilon):\n",
        "  \"\"\"\n",
        "  inputs:\n",
        "    model: model to be attacked\n",
        "    x: input image\n",
        "    y: label\n",
        "    epsilon: clipping threshold for FGSM\n",
        "\n",
        "  outputs:\n",
        "    x': the perturbed image\n",
        "    delta: the added perturbation\n",
        "    y': prediction of the model for the perturbed input\n",
        "  \"\"\"\n",
        "  x.requires_grad = True\n",
        "  outputs = model(x)\n",
        "  loss = F.nll_loss(outputs, y)\n",
        "  model.zero_grad()\n",
        "  loss.backward()\n",
        "\n",
        "  delta = epsilon * x.grad.data.sign()\n",
        "  x_prime = x + delta\n",
        "  y_prime = model(x_prime)\n",
        "\n",
        "  return x_prime, delta, y_prime"
      ]
    },
    {
      "cell_type": "markdown",
      "source": [
        "###**Evaluation**\n"
      ],
      "metadata": {
        "id": "1iocJ42FbTPE"
      }
    },
    {
      "cell_type": "markdown",
      "source": [
        " For $\\epsilon \\in \\{\\frac{1}{255}, \\frac{4}{255}, \\frac{8}{255},\\}$ report the performance of the model on targeted FGSM attack on the test data."
      ],
      "metadata": {
        "id": "KCtIVJ7ybo2G"
      }
    },
    {
      "cell_type": "code",
      "source": [
        "epsilons = [1/255, 4/255, 8/255]\n",
        "\n",
        "for epsilon in epsilons:\n",
        "    correct = 0\n",
        "    for images, labels in testloader:\n",
        "        images, labels = images.to(device), labels.to(device)\n",
        "        perturbed_images, _, _ = FGSM(net, images, labels, epsilon)\n",
        "\n",
        "        outputs = net(perturbed_images)\n",
        "        _, predicted = torch.max(outputs.data, 1)\n",
        "        correct += (predicted == labels).sum().item()\n",
        "\n",
        "    print('Epsilon: {}, Test Accuracy: {} %'.format(epsilon, 100 * correct / len(testloader.dataset)))\n"
      ],
      "metadata": {
        "id": "RWM6pCKibm1j",
        "colab": {
          "base_uri": "https://localhost:8080/"
        },
        "outputId": "320f1c4c-04b4-4b31-9bac-b759ee700043"
      },
      "execution_count": 13,
      "outputs": [
        {
          "output_type": "stream",
          "name": "stdout",
          "text": [
            "Epsilon: 0.00392156862745098, Test Accuracy: 85.03 %\n",
            "Epsilon: 0.01568627450980392, Test Accuracy: 68.83 %\n",
            "Epsilon: 0.03137254901960784, Test Accuracy: 46.37 %\n"
          ]
        }
      ]
    },
    {
      "cell_type": "markdown",
      "source": [
        "###**FGSM by gradually increasing $ϵ$**"
      ],
      "metadata": {
        "id": "540xuXsTbvwd"
      }
    },
    {
      "cell_type": "markdown",
      "source": [
        "FGSM attack may not work for small $\\epsilon$, on the other hand we want to alter image as insignificant as possible, so here is what we do, we start from $\\epsilon = \\frac{1}{255}$ and if the attack was unsuccessful, we increase $\\epsilon$ by $\\frac{1}{255}$. The procedure goes on until the predicted label is different from the ground truth."
      ],
      "metadata": {
        "id": "4Y6-jilKW1mo"
      }
    },
    {
      "cell_type": "code",
      "execution_count": 15,
      "metadata": {
        "id": "96PZLzYn8AYd",
        "colab": {
          "base_uri": "https://localhost:8080/",
          "height": 130
        },
        "outputId": "d6c096e7-8a11-4a34-ed58-d59a2daaa550"
      },
      "outputs": [
        {
          "output_type": "error",
          "ename": "IndentationError",
          "evalue": "ignored",
          "traceback": [
            "\u001b[0;36m  File \u001b[0;32m\"<ipython-input-15-de7582e0a2bb>\"\u001b[0;36m, line \u001b[0;32m18\u001b[0m\n\u001b[0;31m    epsilon = initial_epsilon\u001b[0m\n\u001b[0m    ^\u001b[0m\n\u001b[0;31mIndentationError\u001b[0m\u001b[0;31m:\u001b[0m unexpected indent\n"
          ]
        }
      ],
      "source": [
        "#######################################################\n",
        "#increase epsilon gradually till the label is changed. The function can be implemented recursively.#\n",
        "#######################################################\n",
        "\n",
        "def generate_adversarial_FGSM (model, x, label, initial_epsilon=1/255):\n",
        "  \"\"\"\n",
        "  inputs:\n",
        "    model: model to be attacked\n",
        "    x: input image\n",
        "    y: label\n",
        "    epsilon: intial clipping threshold for FGSM\n",
        "\n",
        "  outputs:\n",
        "    epsilon: the epsilon that flips the label.\n",
        "    delta: the added perturbation\n",
        "    y': prediction of the model for the perturbed input\n",
        "  \"\"\"\n",
        "   epsilon = initial_epsilon\n",
        "   x_prime, delta, y_prime = FGSM(model, x, label, epsilon)\n",
        "   _, predicted = torch.max(y_prime.data, 1)\n",
        "\n",
        "   while predicted.item() == label.item():\n",
        "       epsilon += 1/255\n",
        "       x_prime, delta, y_prime = FGSM(model, x, label, epsilon)\n",
        "       _, predicted = torch.max(y_prime.data, 1)\n",
        "\n",
        "   return epsilon, delta, y_prime\n"
      ]
    },
    {
      "cell_type": "markdown",
      "metadata": {
        "id": "s29e791J9F0V"
      },
      "source": [
        "### **Visualization**\n",
        "Pick 10 samples from cifar10 test set, each from one class, make sure the selected samples are classified correctly. Plot these samples. Take note that the selected data must not be transformed by train or test transformations while visualisation."
      ]
    },
    {
      "cell_type": "code",
      "execution_count": null,
      "metadata": {
        "id": "dEnJ2Vz2j8Zt"
      },
      "outputs": [],
      "source": [
        "#############################################################################################\n",
        "#visualize one test sample from each class and make sure that they are correctly labeled.   #\n",
        "#save index of these samples, since they are needed in the following sections.              #\n",
        "#############################################################################################\n",
        "\n",
        "def imshow(img):\n",
        "    img = img / 2 + 0.5     # unnormalize\n",
        "    npimg = img.numpy()\n",
        "    plt.figure()\n",
        "    plt.imshow(np.transpose(npimg, (1, 2, 0)))\n",
        "    plt.show()\n",
        "\n",
        "\n",
        "\n",
        "correct_samples = []\n",
        "correct_indices = []\n",
        "\n",
        "for i, (images, labels) in enumerate(testloader):\n",
        "    images, labels = images.to(device), labels.to(device)\n",
        "    outputs = net(images)\n",
        "    _, predicted = torch.max(outputs.data, 1)\n",
        "    correct = (predicted == labels).squeeze()\n",
        "\n",
        "    for j in range(len(images)):\n",
        "        if correct[j].item() == True:\n",
        "            correct_samples.append((images[j], labels[j]))\n",
        "            correct_indices.append(i * len(images) + j)\n",
        "\n",
        "    if len(correct_samples) >= 10:  # Assuming we want 10 samples\n",
        "        break\n",
        "\n",
        "#######################\n",
        "# Your code goes here\n",
        "\n"
      ]
    },
    {
      "cell_type": "markdown",
      "metadata": {
        "id": "EwMfircn3TGO"
      },
      "source": [
        "Now, apply untargetted FGSM attack ``` generate_adversarial_FGSM ``` on the selected samples. Visualize the original image, the perturbed image, and the perturbation. since the perturbation is imperceptible, magnify it by the value of $\\frac{1}{\\epsilon}$ before visualization."
      ]
    },
    {
      "cell_type": "code",
      "execution_count": null,
      "metadata": {
        "id": "5MmdiqTj7X_y"
      },
      "outputs": [],
      "source": [
        "######################################################################################################\n",
        "#visualize the selected samples, their corresponding perturbed image, and the magnified perturbation #\n",
        "#also print the ground truth and the predicted label for each sample                                 #\n",
        "######################################################################################################\n",
        "\n",
        "def imshow(img):\n",
        "    img = img / 2 + 0.5  # unnormalize\n",
        "    npimg = img.cpu().numpy()\n",
        "    plt.imshow(np.transpose(npimg, (1, 2, 0)))\n",
        "    plt.show()\n",
        "\n",
        "for i, (image, label) in enumerate(correct_samples):\n",
        "    epsilon, delta, y_prime = generate_adversarial_FGSM(net, image.unsqueeze(0), label.unsqueeze(0))\n",
        "    _, predicted = torch.max(y_prime.data, 1)\n",
        "\n",
        "    print('Sample {}'.format(i+1))\n",
        "    print('Ground truth: ', label.item())\n",
        "    print('Predicted label: ', predicted.item())\n",
        "\n",
        "    print('Original Image')\n",
        "    imshow(image)\n",
        "\n",
        "    print('Perturbed Image')\n",
        "    imshow(image + delta)\n",
        "\n",
        "    print('Magnified Perturbation')\n",
        "    imshow(delta / epsilon)\n",
        "\n",
        "\n",
        "######################\n",
        "# Your code goes here\n"
      ]
    },
    {
      "cell_type": "markdown",
      "metadata": {
        "id": "EfkA5WJp3TGQ"
      },
      "source": [
        "##**Targeted FGSM Attack**\n",
        "implement targeted FGSM attack."
      ]
    },
    {
      "cell_type": "code",
      "execution_count": null,
      "metadata": {
        "id": "tjuJZ0UOAiT1"
      },
      "outputs": [],
      "source": [
        "########################################\n",
        "#define tergeted FGSM attack           #\n",
        "########################################\n",
        "\n",
        "def FGSM_targeted (model, x, y, y_targ, epsilon):\n",
        "  \"\"\"\n",
        "  inputs:\n",
        "    model: model to be attacked\n",
        "    x: input image\n",
        "    y: label\n",
        "    y_targ = target label\n",
        "    epsilon: clipping threshold for FGSM\n",
        "\n",
        "  outputs:\n",
        "    x': the perturbed image\n",
        "    delta: the added perturbation\n",
        "  \"\"\"\n",
        "\n",
        "  delta = None\n",
        "\n",
        "  ######################\n",
        "  # Your code goes here\n",
        "\n",
        "\n",
        "  return x+delta, delta"
      ]
    },
    {
      "cell_type": "markdown",
      "metadata": {
        "id": "2DTwVtm13TGZ"
      },
      "source": [
        "###**Evaluation**\n",
        "for each sample, select the most probable lable as the target label (if the most probable label is the ground truth, select the second most probable label). For $\\epsilon \\in \\{\\frac{1}{255}, \\frac{4}{255}, \\frac{8}{255},\\}$ report the performance of the model on targeted FGSM attack on the test data."
      ]
    },
    {
      "cell_type": "code",
      "source": [
        "######################\n",
        "# Your code goes here\n"
      ],
      "metadata": {
        "id": "3FtJ8Gv_lQpv"
      },
      "execution_count": null,
      "outputs": []
    },
    {
      "cell_type": "markdown",
      "metadata": {
        "id": "vGZeCSmI3TGa"
      },
      "source": [
        "for each sample, select the least probable lable as the target label (if the least probable label is the ground truth, select the second most probable label). For $\\epsilon \\in \\{\\frac{1}{255}, \\frac{4}{255}, \\frac{8}{255},\\}$ report the performance of the model on targeted FGSM attack on the test data."
      ]
    },
    {
      "cell_type": "code",
      "execution_count": null,
      "metadata": {
        "id": "MHaLPlKsVgbK"
      },
      "outputs": [],
      "source": [
        "######################\n",
        "# Your code goes here\n"
      ]
    },
    {
      "cell_type": "markdown",
      "source": [
        "plot accuracy of model with respect to $\\epsilon$ both for least probable and most probable target labels (both in a single plot)."
      ],
      "metadata": {
        "id": "UDD6c-f7lT6g"
      }
    },
    {
      "cell_type": "code",
      "source": [
        "######################\n",
        "# Your code goes here\n"
      ],
      "metadata": {
        "id": "a_REC3Jhlm2S"
      },
      "execution_count": null,
      "outputs": []
    },
    {
      "cell_type": "markdown",
      "metadata": {
        "id": "mGpFIrId3TGa"
      },
      "source": [
        "#**PGD Attack (30 pts)**\n",
        "\n",
        "Implement PGD attack in the following cell. There is no need to change the default $\\epsilon$ and $\\alpha$."
      ]
    },
    {
      "cell_type": "code",
      "execution_count": null,
      "metadata": {
        "id": "5A7fFCvWty0I"
      },
      "outputs": [],
      "source": [
        "def PGD (model, x, y, iterations, epsilon=8/255, alpha=3/255):\n",
        "  \"\"\"\n",
        "  inputs:\n",
        "    model: model to be attacked\n",
        "    x: input image\n",
        "    y: label\n",
        "    iterations: number of iterations for PGD attack\n",
        "    epsilon: clipping threshold for PGD\n",
        "    alpha: step size for PGD attack\n",
        "\n",
        "  outputs:\n",
        "    x': the perturbed image\n",
        "    delta: the added perturbation\n",
        "    y': prediction of the model for the perturbed input\n",
        "  \"\"\"\n",
        "\n",
        "  delta = None\n",
        "\n",
        "  ######################\n",
        "  # Your code goes here\n",
        "\n",
        "\n",
        "  return x+delta, delta, model(x+delta)"
      ]
    },
    {
      "cell_type": "markdown",
      "metadata": {
        "id": "r00Fb6Am3TGb"
      },
      "source": [
        "##**Evaluation**\n",
        "for iterations $\\in \\{3, 7, 12\\}$, evaluate performance of the model on adversarial test data."
      ]
    },
    {
      "cell_type": "code",
      "execution_count": null,
      "metadata": {
        "id": "WtE-CjiQaC06"
      },
      "outputs": [],
      "source": [
        "######################\n",
        "# Your code goes here"
      ]
    },
    {
      "cell_type": "markdown",
      "source": [
        "#**Questions (15 pts)**\n",
        "\n",
        "1. What was the effect of $\\epsilon$ in targeted and untargeted FGSM attack according to your observations?\n",
        "\n",
        "2. Compare performance of the model on the least probable and most probable targetted FGSM attacks, justify your observation.\n",
        "\n",
        "3. What was the effect of number of iterations in PGD attack according to your observations?\n",
        "\n",
        "4. compare the performance of model on PGD attacks and FGSM attacks."
      ],
      "metadata": {
        "id": "plDgHxqZhDrl"
      }
    },
    {
      "cell_type": "code",
      "source": [],
      "metadata": {
        "id": "ifZ7bQ6hhlhl"
      },
      "execution_count": null,
      "outputs": []
    }
  ],
  "metadata": {
    "accelerator": "GPU",
    "colab": {
      "provenance": []
    },
    "kernelspec": {
      "display_name": "Python 3",
      "language": "python",
      "name": "python3"
    },
    "language_info": {
      "codemirror_mode": {
        "name": "ipython",
        "version": 3
      },
      "file_extension": ".py",
      "mimetype": "text/x-python",
      "name": "python",
      "nbconvert_exporter": "python",
      "pygments_lexer": "ipython3",
      "version": "3.6.5"
    }
  },
  "nbformat": 4,
  "nbformat_minor": 0
}